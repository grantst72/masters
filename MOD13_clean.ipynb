{
 "cells": [
  {
   "cell_type": "markdown",
   "metadata": {},
   "source": [
    "# Working with MOD13 Vegetation Indices data"
   ]
  },
  {
   "cell_type": "markdown",
   "metadata": {},
   "source": [
    "I assume this process is going to be similar to burned data "
   ]
  },
  {
   "cell_type": "code",
   "execution_count": 1,
   "metadata": {},
   "outputs": [],
   "source": [
    "# Import libraries\n",
    "import os\n",
    "import glob\n",
    "from osgeo import gdal\n",
    "import numpy as np\n",
    "import numpy.ma as ma\n",
    "import matplotlib.pyplot as plt\n",
    "import scipy.ndimage\n",
    "import pandas as pd\n",
    "import datetime as dt\n",
    "import rasterio as rio\n",
    "import re\n",
    "import geopandas as gpd\n",
    "import earthpy as et\n",
    "import earthpy.plot as ep\n",
    "import earthpy.spatial as es\n",
    "import earthpy.mask as em\n",
    "from pyhdf.SD import SD, SDC\n",
    "import matplotlib.colors as colors \n",
    "from mpl_toolkits.axes_grid1 import make_axes_locatable "
   ]
  },
  {
   "cell_type": "code",
   "execution_count": 24,
   "metadata": {},
   "outputs": [],
   "source": [
    "# Set input directory, and change working directory\n",
    "inDir = \"D:\\\\masters_data\"   # I should change this so I can work from github?\n",
    "os.chdir(inDir)                                                               # Change to working directory\n",
    "outDir = os.path.normpath(os.path.split(inDir)[0] + os.sep + 'output') + '\\\\' # Create and set output directory\n",
    "if not os.path.exists(outDir): os.makedirs(outDir)"
   ]
  },
  {
   "cell_type": "code",
   "execution_count": 26,
   "metadata": {},
   "outputs": [
    {
     "data": {
      "text/plain": [
       "['MOD13A1.A2009081.h20v07.006.2015188085636.hdf',\n",
       " 'MOD13A1.A2009097.h20v07.006.2015189152957.hdf',\n",
       " 'MOD13A1.A2009113.h20v07.006.2015189143500.hdf',\n",
       " 'MOD13A1.A2009129.h20v07.006.2015189211850.hdf',\n",
       " 'MOD13A1.A2009145.h20v07.006.2015190115732.hdf',\n",
       " 'MOD13A1.A2009161.h20v07.006.2015190220023.hdf',\n",
       " 'MOD13A1.A2009177.h20v07.006.2015191092653.hdf',\n",
       " 'MOD13A1.A2009193.h20v07.006.2015192135834.hdf',\n",
       " 'MOD13A1.A2009209.h20v07.006.2015192140836.hdf',\n",
       " 'MOD13A1.A2009225.h20v07.006.2015194150936.hdf',\n",
       " 'MOD13A1.A2009241.h20v07.006.2015194150902.hdf',\n",
       " 'MOD13A1.A2009257.h20v07.006.2015194225008.hdf',\n",
       " 'MOD13A1.A2009273.h20v07.006.2015195130334.hdf',\n",
       " 'MOD13A1.A2009289.h20v07.006.2015195223739.hdf',\n",
       " 'MOD13A1.A2009305.h20v07.006.2015196131754.hdf',\n",
       " 'MOD13A1.A2009321.h20v07.006.2015196201833.hdf',\n",
       " 'MOD13A1.A2009337.h20v07.006.2015197065045.hdf']"
      ]
     },
     "execution_count": 26,
     "metadata": {},
     "output_type": "execute_result"
    }
   ],
   "source": [
    "#select all MOD13A3 files in my folder - also removes all other formats (.XML etc. - not sure if these files have value)\n",
    "MODISFiles = glob.glob('MOD13A1*h20v07*.hdf') \n",
    "MODISFiles"
   ]
  },
  {
   "cell_type": "code",
   "execution_count": 27,
   "metadata": {},
   "outputs": [
    {
     "name": "stdout",
     "output_type": "stream",
     "text": [
      "MOD13A1.A2009081.h20v07.006.2015188085636.hdf\n"
     ]
    }
   ],
   "source": [
    "#select one file to get its data - Soon I could create a forloop to run through all the files automatically?\n",
    "print(MODISFiles[0])"
   ]
  },
  {
   "cell_type": "code",
   "execution_count": 7,
   "metadata": {},
   "outputs": [
    {
     "name": "stdout",
     "output_type": "stream",
     "text": [
      "Product Name: MOD13A3\n",
      "Layer ID: h19v07\n",
      "Date of Observation: 01/01/2015\n",
      "(Not sure what this represents: 2015295114815)\n"
     ]
    }
   ],
   "source": [
    "#Just makes clear MODIS File naming convention and changes it from Julian date (YYYYDDD)\n",
    "productId = MODISFiles[0].split('.')[0]                                         # First: product name\n",
    "yeardoy = MODISFiles[0].split(productId + '.A')[1].split('.')[0]                # Julian date\n",
    "date = dt.datetime.strptime(yeardoy, '%Y%j').strftime('%d/%m/%Y')               # Convert YYYYDDD to DD/MM/YYYY\n",
    "tiles_id = MODISFiles[0].split(yeardoy + '.')[1].split('.006')[0]               # Second: tile id\n",
    "unknown_format = MODISFiles[0].split(tiles_id +'.006.')[1].split('.hdf')[0]     # Third: date (DD/MM/YYYY)\n",
    "\n",
    "\n",
    "print('Product Name: {}\\nLayer ID: {}\\nDate of Observation: {}\\n(Not sure what this represents: {})'.format(productId, tiles_id, date, unknown_format ))"
   ]
  },
  {
   "cell_type": "markdown",
   "metadata": {},
   "source": [
    "Find out what last part of naming convention represents"
   ]
  },
  {
   "cell_type": "code",
   "execution_count": 8,
   "metadata": {},
   "outputs": [
    {
     "name": "stdout",
     "output_type": "stream",
     "text": [
      "<open DatasetReader name='MOD13A3.A2015001.h19v07.006.2015295114815.hdf' mode='r'>\n"
     ]
    },
    {
     "name": "stderr",
     "output_type": "stream",
     "text": [
      "C:\\Users\\samgr\\miniconda3\\envs\\GDAL_test\\lib\\site-packages\\rasterio\\__init__.py:218: NotGeoreferencedWarning: Dataset has no geotransform set. The identity matrix may be returned.\n",
      "  s = DatasetReader(path, driver=driver, sharing=sharing, **kwargs)\n"
     ]
    },
    {
     "data": {
      "text/plain": [
       "{'driver': 'HDF4',\n",
       " 'dtype': 'float_',\n",
       " 'nodata': None,\n",
       " 'width': 512,\n",
       " 'height': 512,\n",
       " 'count': 0,\n",
       " 'crs': None,\n",
       " 'transform': Affine(1.0, 0.0, 0.0,\n",
       "        0.0, 1.0, 0.0)}"
      ]
     },
     "execution_count": 8,
     "metadata": {},
     "output_type": "execute_result"
    }
   ],
   "source": [
    "# View dataset metadata at the highest level of file - Not sure if this actually tells me anything useful\n",
    "with rio.open(MODISFiles[0]) as dataset:\n",
    "    print(dataset)\n",
    "    hdf4_meta = dataset.meta\n",
    "\n",
    "hdf4_meta"
   ]
  },
  {
   "cell_type": "code",
   "execution_count": 9,
   "metadata": {},
   "outputs": [
    {
     "name": "stdout",
     "output_type": "stream",
     "text": [
      "HDF4_EOS:EOS_GRID:MOD13A3.A2015001.h19v07.006.2015295114815.hdf:MOD_Grid_monthly_1km_VI:1 km monthly NDVI\n",
      "HDF4_EOS:EOS_GRID:MOD13A3.A2015001.h19v07.006.2015295114815.hdf:MOD_Grid_monthly_1km_VI:1 km monthly relative azimuth angle\n",
      "HDF4_EOS:EOS_GRID:MOD13A3.A2015001.h19v07.006.2015295114815.hdf:MOD_Grid_monthly_1km_VI:1 km monthly pixel reliability\n",
      "HDF4_EOS:EOS_GRID:MOD13A3.A2015001.h19v07.006.2015295114815.hdf:MOD_Grid_monthly_1km_VI:1 km monthly EVI\n",
      "HDF4_EOS:EOS_GRID:MOD13A3.A2015001.h19v07.006.2015295114815.hdf:MOD_Grid_monthly_1km_VI:1 km monthly VI Quality\n",
      "HDF4_EOS:EOS_GRID:MOD13A3.A2015001.h19v07.006.2015295114815.hdf:MOD_Grid_monthly_1km_VI:1 km monthly red reflectance\n",
      "HDF4_EOS:EOS_GRID:MOD13A3.A2015001.h19v07.006.2015295114815.hdf:MOD_Grid_monthly_1km_VI:1 km monthly NIR reflectance\n",
      "HDF4_EOS:EOS_GRID:MOD13A3.A2015001.h19v07.006.2015295114815.hdf:MOD_Grid_monthly_1km_VI:1 km monthly blue reflectance\n",
      "HDF4_EOS:EOS_GRID:MOD13A3.A2015001.h19v07.006.2015295114815.hdf:MOD_Grid_monthly_1km_VI:1 km monthly MIR reflectance\n",
      "HDF4_EOS:EOS_GRID:MOD13A3.A2015001.h19v07.006.2015295114815.hdf:MOD_Grid_monthly_1km_VI:1 km monthly view zenith angle\n",
      "HDF4_EOS:EOS_GRID:MOD13A3.A2015001.h19v07.006.2015295114815.hdf:MOD_Grid_monthly_1km_VI:1 km monthly sun zenith angle\n"
     ]
    }
   ],
   "source": [
    "# Print all of the subdatasets in the file - I think NDVI and EVI are the ones I'm interested in\n",
    "with rio.open(MODISFiles[0]) as dataset:\n",
    "    crs = dataset.read_crs()\n",
    "    for name in dataset.subdatasets:\n",
    "        print(name)"
   ]
  },
  {
   "cell_type": "code",
   "execution_count": 10,
   "metadata": {},
   "outputs": [
    {
     "name": "stdout",
     "output_type": "stream",
     "text": [
      "(11, 6)\n"
     ]
    }
   ],
   "source": [
    "file_name = 'MOD13A3.A2015001.h19v07.006.2015295114815.hdf'\n",
    "file = SD(file_name, SDC.READ)  # SDC means scientific dataset  \n",
    "\n",
    "print( file.info() )  # means there is 11 scientific datasets, although im not sure what the 6 signifies"
   ]
  },
  {
   "cell_type": "code",
   "execution_count": 11,
   "metadata": {},
   "outputs": [
    {
     "name": "stdout",
     "output_type": "stream",
     "text": [
      "0 1 km monthly NDVI\n",
      "1 1 km monthly EVI\n",
      "2 1 km monthly VI Quality\n",
      "3 1 km monthly red reflectance\n",
      "4 1 km monthly NIR reflectance\n",
      "5 1 km monthly blue reflectance\n",
      "6 1 km monthly MIR reflectance\n",
      "7 1 km monthly view zenith angle\n",
      "8 1 km monthly sun zenith angle\n",
      "9 1 km monthly relative azimuth angle\n",
      "10 1 km monthly pixel reliability\n"
     ]
    }
   ],
   "source": [
    "# print datasets in file\n",
    "datasets_dic = file.datasets()\n",
    "\n",
    "for idx,sds in enumerate(datasets_dic.keys()):\n",
    "    print(idx,sds)"
   ]
  },
  {
   "cell_type": "code",
   "execution_count": 12,
   "metadata": {},
   "outputs": [
    {
     "name": "stdout",
     "output_type": "stream",
     "text": [
      "[[ 942  909  877 ...  938  891  931]\n",
      " [ 926  922  890 ...  850  943  931]\n",
      " [ 907  909  896 ...  963  947  955]\n",
      " ...\n",
      " [2996 3215 3117 ... 4299 4433 4270]\n",
      " [2787 3089 3035 ... 3453 3805 3320]\n",
      " [3031 2990 3132 ... 4372 4316 3319]]\n"
     ]
    }
   ],
   "source": [
    "# get data for NDVI - can change this to get data for EVI or other simply by changing the index number\n",
    "sds_obj = file.select(0) # select sds\n",
    "\n",
    "data = sds_obj.get() # get sds data\n",
    "print(data)"
   ]
  },
  {
   "cell_type": "code",
   "execution_count": 13,
   "metadata": {},
   "outputs": [
    {
     "name": "stdout",
     "output_type": "stream",
     "text": [
      "{'_FillValue': -3000,\n",
      " 'add_offset': 0.0,\n",
      " 'add_offset_err': 0.0,\n",
      " 'calibrated_nt': 5,\n",
      " 'long_name': '1 km monthly NDVI',\n",
      " 'scale_factor': 10000.0,\n",
      " 'scale_factor_err': 0.0,\n",
      " 'units': 'NDVI',\n",
      " 'valid_range': [-2000, 10000]}\n"
     ]
    }
   ],
   "source": [
    "# print attributes to see scale factor and add_offset\n",
    "import pprint\n",
    "pprint.pprint( sds_obj.attributes() )"
   ]
  },
  {
   "cell_type": "markdown",
   "metadata": {},
   "source": [
    "***\n",
    "**The code below applies the scale factor although I am not sure this is wanted because the spreadsheet on HDFView has the value of \"data\" (above) not \"scaled_data\" (below)**\n",
    "***"
   ]
  },
  {
   "cell_type": "code",
   "execution_count": 14,
   "metadata": {},
   "outputs": [
    {
     "name": "stdout",
     "output_type": "stream",
     "text": [
      "long_name 1 km monthly NDVI\n",
      "units NDVI\n",
      "valid_range [-2000, 10000]\n",
      "_FillValue -3000\n",
      "scale_factor 10000.0\n",
      "scale_factor_err 0.0\n",
      "add_offset 0.0\n",
      "add_offset_err 0.0\n",
      "calibrated_nt 5\n"
     ]
    }
   ],
   "source": [
    "for key, value in sds_obj.attributes().items():\n",
    "    print(key, value)\n",
    "    if key == 'add_offset':\n",
    "        add_offset = value  \n",
    "    if key == 'scale_factor':\n",
    "        scale_factor = value"
   ]
  },
  {
   "cell_type": "code",
   "execution_count": 15,
   "metadata": {},
   "outputs": [
    {
     "name": "stdout",
     "output_type": "stream",
     "text": [
      "[[ 9420000.  9090000.  8770000. ...  9380000.  8910000.  9310000.]\n",
      " [ 9260000.  9220000.  8900000. ...  8500000.  9430000.  9310000.]\n",
      " [ 9070000.  9090000.  8960000. ...  9630000.  9470000.  9550000.]\n",
      " ...\n",
      " [29960000. 32150000. 31170000. ... 42990000. 44330000. 42700000.]\n",
      " [27870000. 30890000. 30350000. ... 34530000. 38050000. 33200000.]\n",
      " [30310000. 29900000. 31320000. ... 43720000. 43160000. 33190000.]]\n"
     ]
    }
   ],
   "source": [
    "scaled_data = (data - add_offset) * scale_factor\n",
    "print(scaled_data)\n",
    "# I don't think that scaled_data is right - outside of valid range"
   ]
  },
  {
   "cell_type": "code",
   "execution_count": 16,
   "metadata": {},
   "outputs": [
    {
     "name": "stdout",
     "output_type": "stream",
     "text": [
      "(1200, 1200)\n"
     ]
    }
   ],
   "source": [
    "print(scaled_data.shape)"
   ]
  },
  {
   "cell_type": "code",
   "execution_count": 17,
   "metadata": {},
   "outputs": [
    {
     "name": "stdout",
     "output_type": "stream",
     "text": [
      "(1200, 1200)\n"
     ]
    }
   ],
   "source": [
    "print(data.shape)"
   ]
  },
  {
   "cell_type": "markdown",
   "metadata": {},
   "source": [
    "I now need to view this data as a picture but I am not sure how to convert it"
   ]
  },
  {
   "cell_type": "code",
   "execution_count": 23,
   "metadata": {},
   "outputs": [
    {
     "name": "stderr",
     "output_type": "stream",
     "text": [
      "<ipython-input-23-3ded11f6dc29>:15: MatplotlibDeprecationWarning: In a future version, 'pad' will default to rcParams['figure.subplot.wspace'].  Set pad=0 to keep the old behavior.\n",
      "  cax = divider.append_axes(\"right\", size =\"5 %\")\n"
     ]
    },
    {
     "data": {
      "image/png": "[encoded data removed]",
      "text/plain": [
       "<Figure size 432x288 with 2 Axes>"
      ]
     },
     "metadata": {
      "needs_background": "light"
     },
     "output_type": "display_data"
    }
   ],
   "source": [
    "u = np.unique(data) \n",
    "bounds = np.concatenate(([data.min()], \n",
    "                         u[:-1]+np.diff(u)/2., \n",
    "                         [data.max()])) \n",
    "  \n",
    "# norm = colors.BoundaryNorm(bounds, len(bounds)) \n",
    "# color_map1 = ['#FFFAFA', '#FFA07A', '#FF6347', '#800000'] \n",
    "# color_map = colors.ListedColormap(color_map1)  \n",
    "  \n",
    "    \n",
    "fig, axes = plt.subplots() \n",
    "img = axes.imshow(data, cmap = \"PiYG\", \n",
    "                  ) \n",
    "divider = make_axes_locatable(axes) \n",
    "cax = divider.append_axes(\"right\", size =\"5 %\") \n",
    "  \n",
    "color_bar = plt.colorbar(img,  \n",
    "                        cax = cax) \n",
    "  \n",
    "# color_bar.set_ticks(bounds[:-1]+np.diff(bounds)/2.) \n",
    "# color_bar.ax.set_yticklabels(color_map1) \n",
    "# color_bar.ax.tick_params(labelsize = 10) \n",
    "  \n",
    "plt.show() "
   ]
  },
  {
   "cell_type": "code",
   "execution_count": null,
   "metadata": {},
   "outputs": [],
   "source": []
  }
 ],
 "metadata": {
  "kernelspec": {
   "display_name": "Python 3",
   "language": "python",
   "name": "python3"
  },
  "language_info": {
   "codemirror_mode": {
    "name": "ipython",
    "version": 3
   },
   "file_extension": ".py",
   "mimetype": "text/x-python",
   "name": "python",
   "nbconvert_exporter": "python",
   "pygments_lexer": "ipython3",
   "version": "3.8.5"
  }
 },
 "nbformat": 4,
 "nbformat_minor": 4
}
