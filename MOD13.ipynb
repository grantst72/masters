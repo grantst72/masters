{
 "cells": [
  {
   "cell_type": "markdown",
   "metadata": {},
   "source": [
    "### Working with MOD13 Vegetation Indices data"
   ]
  },
  {
   "cell_type": "markdown",
   "metadata": {},
   "source": [
    "I assume this process is going to be similar with "
   ]
  },
  {
   "cell_type": "code",
   "execution_count": 33,
   "metadata": {},
   "outputs": [],
   "source": [
    "# Import libraries\n",
    "import os\n",
    "import glob\n",
    "from osgeo import gdal\n",
    "import numpy as np\n",
    "import numpy.ma as ma\n",
    "import matplotlib.pyplot as plt\n",
    "import scipy.ndimage\n",
    "import pandas as pd\n",
    "import datetime as dt\n",
    "import rasterio as rio\n",
    "import re\n",
    "import geopandas as gpd\n",
    "import earthpy as et\n",
    "import earthpy.plot as ep\n",
    "import earthpy.spatial as es\n",
    "import earthpy.mask as em\n",
    "from pyhdf.SD import SD, SDC"
   ]
  },
  {
   "cell_type": "code",
   "execution_count": 34,
   "metadata": {},
   "outputs": [],
   "source": [
    "# Set input directory, and change working directory\n",
    "inDir = \"C:\\\\Users\\\\samgr\\\\OneDrive\\\\Desktop\\\\Masters_Project\\\\Preparation\"   # IMPORTANT: Update to reflect directory on your OS\n",
    "os.chdir(inDir)                                                               # Change to working directory\n",
    "outDir = os.path.normpath(os.path.split(inDir)[0] + os.sep + 'output') + '\\\\' # Create and set output directory\n",
    "if not os.path.exists(outDir): os.makedirs(outDir)"
   ]
  },
  {
   "cell_type": "code",
   "execution_count": 35,
   "metadata": {},
   "outputs": [
    {
     "data": {
      "text/plain": [
       "['MOD13A3.A2015001.h19v07.006.2015295114815.hdf',\n",
       " 'MOD13A3.A2015032.h19v08.006.2015297000353.hdf',\n",
       " 'MOD13A3.A2015060.h19v08.006.2015298212508.hdf',\n",
       " 'MOD13A3.A2015091.h19v08.006.2015299041123.hdf',\n",
       " 'MOD13A3.A2015152.h20v08.006.2015301214710.hdf',\n",
       " 'MOD13A3.A2015274.h19v07.006.2015317210610.hdf',\n",
       " 'MOD13A3.A2015305.h19v07.006.2015343135029.hdf',\n",
       " 'MOD13A3.A2015305.h19v08.006.2015343135001.hdf',\n",
       " 'MOD13A3.A2015305.h20v08.006.2015343135325.hdf',\n",
       " 'MOD13A3.A2015335.h19v07.006.2016007181745.hdf',\n",
       " 'MOD13A3.A2015335.h19v08.006.2016007180603.hdf',\n",
       " 'MOD13A3.A2015335.h20v08.006.2016007181735.hdf']"
      ]
     },
     "execution_count": 35,
     "metadata": {},
     "output_type": "execute_result"
    }
   ],
   "source": [
    "#haven't got MODIS downloaded yet\n",
    "MODISFiles = glob.glob('MOD13A3**.hdf') # Search for and create a list of EVI files\n",
    "MODISFiles"
   ]
  },
  {
   "cell_type": "code",
   "execution_count": 36,
   "metadata": {},
   "outputs": [
    {
     "name": "stdout",
     "output_type": "stream",
     "text": [
      "MOD13A3.A2015001.h19v07.006.2015295114815.hdf\n"
     ]
    }
   ],
   "source": [
    "print(MODISFiles[0])"
   ]
  },
  {
   "cell_type": "code",
   "execution_count": 37,
   "metadata": {},
   "outputs": [
    {
     "name": "stdout",
     "output_type": "stream",
     "text": [
      "Product Name: MOD13A3\n",
      "Layer ID: h19v07\n",
      "Date of Observation: 01/01/2015\n",
      "(Not sure what this represents: 2015295114815)\n"
     ]
    }
   ],
   "source": [
    "#Rename MODIS File\n",
    "productId = MODISFiles[0].split('.')[0]                                         # First: product name\n",
    "yeardoy = MODISFiles[0].split(productId + '.A')[1].split('.')[0]                #julian date\n",
    "date = dt.datetime.strptime(yeardoy, '%Y%j').strftime('%d/%m/%Y')               # Convert YYYYDDD to DD/MM/YYYY\n",
    "tiles_id = MODISFiles[0].split(yeardoy + '.')[1].split('.006')[0]               # Second: layer name\n",
    "unknown_format = MODISFiles[0].split(tiles_id +'.006.')[1].split('.hdf')[0]     # Third: date\n",
    "\n",
    "\n",
    "print('Product Name: {}\\nLayer ID: {}\\nDate of Observation: {}\\n(Not sure what this represents: {})'.format(productId, tiles_id, date, unknown_format ))"
   ]
  },
  {
   "cell_type": "markdown",
   "metadata": {},
   "source": [
    "Find out what last part of naming convention represents"
   ]
  },
  {
   "cell_type": "code",
   "execution_count": 38,
   "metadata": {},
   "outputs": [
    {
     "name": "stdout",
     "output_type": "stream",
     "text": [
      "<open DatasetReader name='MOD13A3.A2015001.h19v07.006.2015295114815.hdf' mode='r'>\n"
     ]
    },
    {
     "data": {
      "text/plain": [
       "{'driver': 'HDF4',\n",
       " 'dtype': 'float_',\n",
       " 'nodata': None,\n",
       " 'width': 512,\n",
       " 'height': 512,\n",
       " 'count': 0,\n",
       " 'crs': None,\n",
       " 'transform': Affine(1.0, 0.0, 0.0,\n",
       "        0.0, 1.0, 0.0)}"
      ]
     },
     "execution_count": 38,
     "metadata": {},
     "output_type": "execute_result"
    }
   ],
   "source": [
    "# View dataset metadata\n",
    "with rio.open(MODISFiles[0]) as dataset:\n",
    "    print(dataset)\n",
    "    hdf4_meta = dataset.meta\n",
    "\n",
    "# Notice that there are metadata at the highest level of the file\n",
    "hdf4_meta"
   ]
  },
  {
   "cell_type": "code",
   "execution_count": 39,
   "metadata": {},
   "outputs": [
    {
     "name": "stdout",
     "output_type": "stream",
     "text": [
      "HDF4_EOS:EOS_GRID:MOD13A3.A2015001.h19v07.006.2015295114815.hdf:MOD_Grid_monthly_1km_VI:1 km monthly NDVI\n",
      "HDF4_EOS:EOS_GRID:MOD13A3.A2015001.h19v07.006.2015295114815.hdf:MOD_Grid_monthly_1km_VI:1 km monthly relative azimuth angle\n",
      "HDF4_EOS:EOS_GRID:MOD13A3.A2015001.h19v07.006.2015295114815.hdf:MOD_Grid_monthly_1km_VI:1 km monthly pixel reliability\n",
      "HDF4_EOS:EOS_GRID:MOD13A3.A2015001.h19v07.006.2015295114815.hdf:MOD_Grid_monthly_1km_VI:1 km monthly EVI\n",
      "HDF4_EOS:EOS_GRID:MOD13A3.A2015001.h19v07.006.2015295114815.hdf:MOD_Grid_monthly_1km_VI:1 km monthly VI Quality\n",
      "HDF4_EOS:EOS_GRID:MOD13A3.A2015001.h19v07.006.2015295114815.hdf:MOD_Grid_monthly_1km_VI:1 km monthly red reflectance\n",
      "HDF4_EOS:EOS_GRID:MOD13A3.A2015001.h19v07.006.2015295114815.hdf:MOD_Grid_monthly_1km_VI:1 km monthly NIR reflectance\n",
      "HDF4_EOS:EOS_GRID:MOD13A3.A2015001.h19v07.006.2015295114815.hdf:MOD_Grid_monthly_1km_VI:1 km monthly blue reflectance\n",
      "HDF4_EOS:EOS_GRID:MOD13A3.A2015001.h19v07.006.2015295114815.hdf:MOD_Grid_monthly_1km_VI:1 km monthly MIR reflectance\n",
      "HDF4_EOS:EOS_GRID:MOD13A3.A2015001.h19v07.006.2015295114815.hdf:MOD_Grid_monthly_1km_VI:1 km monthly view zenith angle\n",
      "HDF4_EOS:EOS_GRID:MOD13A3.A2015001.h19v07.006.2015295114815.hdf:MOD_Grid_monthly_1km_VI:1 km monthly sun zenith angle\n"
     ]
    }
   ],
   "source": [
    "# Print all of the subdatasets in the data\n",
    "with rio.open(MODISFiles[0]) as dataset:\n",
    "    crs = dataset.read_crs()\n",
    "    for name in dataset.subdatasets:\n",
    "        print(name)"
   ]
  },
  {
   "cell_type": "code",
   "execution_count": 40,
   "metadata": {},
   "outputs": [
    {
     "name": "stdout",
     "output_type": "stream",
     "text": [
      "(11, 6)\n"
     ]
    }
   ],
   "source": [
    "file_name = 'MOD13A3.A2015001.h19v07.006.2015295114815.hdf'\n",
    "file = SD(file_name, SDC.READ)\n",
    "\n",
    "print( file.info() )\n",
    "\n",
    "# MYD06_L2.A2007219.2010.006.2014053202546.hdf"
   ]
  },
  {
   "cell_type": "code",
   "execution_count": 41,
   "metadata": {},
   "outputs": [
    {
     "name": "stdout",
     "output_type": "stream",
     "text": [
      "0 1 km monthly NDVI\n",
      "1 1 km monthly EVI\n",
      "2 1 km monthly VI Quality\n",
      "3 1 km monthly red reflectance\n",
      "4 1 km monthly NIR reflectance\n",
      "5 1 km monthly blue reflectance\n",
      "6 1 km monthly MIR reflectance\n",
      "7 1 km monthly view zenith angle\n",
      "8 1 km monthly sun zenith angle\n",
      "9 1 km monthly relative azimuth angle\n",
      "10 1 km monthly pixel reliability\n"
     ]
    }
   ],
   "source": [
    "datasets_dic = file.datasets()\n",
    "\n",
    "for idx,sds in enumerate(datasets_dic.keys()):\n",
    "    print(idx,sds)"
   ]
  },
  {
   "cell_type": "code",
   "execution_count": 42,
   "metadata": {},
   "outputs": [
    {
     "name": "stdout",
     "output_type": "stream",
     "text": [
      "[[ 942  909  877 ...  938  891  931]\n",
      " [ 926  922  890 ...  850  943  931]\n",
      " [ 907  909  896 ...  963  947  955]\n",
      " ...\n",
      " [2996 3215 3117 ... 4299 4433 4270]\n",
      " [2787 3089 3035 ... 3453 3805 3320]\n",
      " [3031 2990 3132 ... 4372 4316 3319]]\n"
     ]
    }
   ],
   "source": [
    "sds_obj = file.select(0) # select sds\n",
    "\n",
    "data = sds_obj.get() # get sds data\n",
    "print(data)"
   ]
  },
  {
   "cell_type": "code",
   "execution_count": 43,
   "metadata": {},
   "outputs": [
    {
     "name": "stdout",
     "output_type": "stream",
     "text": [
      "{'_FillValue': -3000,\n",
      " 'add_offset': 0.0,\n",
      " 'add_offset_err': 0.0,\n",
      " 'calibrated_nt': 5,\n",
      " 'long_name': '1 km monthly NDVI',\n",
      " 'scale_factor': 10000.0,\n",
      " 'scale_factor_err': 0.0,\n",
      " 'units': 'NDVI',\n",
      " 'valid_range': [-2000, 10000]}\n"
     ]
    }
   ],
   "source": [
    "import pprint\n",
    "\n",
    "pprint.pprint( sds_obj.attributes() )"
   ]
  },
  {
   "cell_type": "code",
   "execution_count": 44,
   "metadata": {},
   "outputs": [
    {
     "name": "stdout",
     "output_type": "stream",
     "text": [
      "long_name 1 km monthly NDVI\n",
      "units NDVI\n",
      "valid_range [-2000, 10000]\n",
      "_FillValue -3000\n",
      "scale_factor 10000.0\n",
      "scale_factor_err 0.0\n",
      "add_offset 0.0\n",
      "add_offset_err 0.0\n",
      "calibrated_nt 5\n"
     ]
    }
   ],
   "source": [
    "for key, value in sds_obj.attributes().items():\n",
    "    print(key, value)\n",
    "    if key == 'add_offset':\n",
    "        add_offset = value  \n",
    "    if key == 'scale_factor':\n",
    "        scale_factor = value"
   ]
  },
  {
   "cell_type": "code",
   "execution_count": 45,
   "metadata": {},
   "outputs": [
    {
     "name": "stdout",
     "output_type": "stream",
     "text": [
      "[[ 9420000.  9090000.  8770000. ...  9380000.  8910000.  9310000.]\n",
      " [ 9260000.  9220000.  8900000. ...  8500000.  9430000.  9310000.]\n",
      " [ 9070000.  9090000.  8960000. ...  9630000.  9470000.  9550000.]\n",
      " ...\n",
      " [29960000. 32150000. 31170000. ... 42990000. 44330000. 42700000.]\n",
      " [27870000. 30890000. 30350000. ... 34530000. 38050000. 33200000.]\n",
      " [30310000. 29900000. 31320000. ... 43720000. 43160000. 33190000.]]\n"
     ]
    }
   ],
   "source": [
    "data = (data - add_offset) * scale_factor\n",
    "print(data)"
   ]
  },
  {
   "cell_type": "code",
   "execution_count": 46,
   "metadata": {},
   "outputs": [
    {
     "name": "stdout",
     "output_type": "stream",
     "text": [
      "(1200, 1200)\n"
     ]
    }
   ],
   "source": [
    "print(data.shape)"
   ]
  }
 ],
 "metadata": {
  "kernelspec": {
   "display_name": "Python 3",
   "language": "python",
   "name": "python3"
  },
  "language_info": {
   "codemirror_mode": {
    "name": "ipython",
    "version": 3
   },
   "file_extension": ".py",
   "mimetype": "text/x-python",
   "name": "python",
   "nbconvert_exporter": "python",
   "pygments_lexer": "ipython3",
   "version": "3.8.5"
  }
 },
 "nbformat": 4,
 "nbformat_minor": 4
}
