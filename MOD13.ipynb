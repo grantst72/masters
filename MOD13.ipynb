{
 "cells": [
  {
   "cell_type": "markdown",
   "metadata": {},
   "source": [
    "### Working with MOD13 Vegetation Indices data"
   ]
  },
  {
   "cell_type": "markdown",
   "metadata": {},
   "source": [
    "I assume this process is going to be similar to burn data? "
   ]
  },
  {
   "cell_type": "code",
   "execution_count": 24,
   "metadata": {},
   "outputs": [],
   "source": [
    "# Import libraries\n",
    "import os\n",
    "import glob\n",
    "from osgeo import gdal\n",
    "import numpy as np\n",
    "import numpy.ma as ma\n",
    "import matplotlib.pyplot as plt\n",
    "import scipy.ndimage\n",
    "import pandas as pd\n",
    "import datetime as dt\n",
    "import rasterio as rio\n",
    "import re\n",
    "import geopandas as gpd\n",
    "import earthpy as et\n",
    "import earthpy.plot as ep\n",
    "import earthpy.spatial as es\n",
    "import earthpy.mask as em"
   ]
  },
  {
   "cell_type": "code",
   "execution_count": 25,
   "metadata": {},
   "outputs": [],
   "source": [
    "# Set input directory, and change working directory\n",
    "inDir = \"C:\\\\Users\\\\samgr\\\\OneDrive\\\\Desktop\\\\Masters_Project\\\\Preparation\"   # IMPORTANT: Update to reflect directory on your OS\n",
    "os.chdir(inDir)                                                               # Change to working directory\n",
    "outDir = os.path.normpath(os.path.split(inDir)[0] + os.sep + 'output') + '\\\\' # Create and set output directory\n",
    "if not os.path.exists(outDir): os.makedirs(outDir)"
   ]
  },
  {
   "cell_type": "code",
   "execution_count": 26,
   "metadata": {},
   "outputs": [
    {
     "data": {
      "text/plain": [
       "['MOD13A3.A2015001.h19v07.006.2015295114815.hdf',\n",
       " 'MOD13A3.A2015032.h19v08.006.2015297000353.hdf',\n",
       " 'MOD13A3.A2015060.h19v08.006.2015298212508.hdf',\n",
       " 'MOD13A3.A2015091.h19v08.006.2015299041123.hdf',\n",
       " 'MOD13A3.A2015152.h20v08.006.2015301214710.hdf',\n",
       " 'MOD13A3.A2015274.h19v07.006.2015317210610.hdf',\n",
       " 'MOD13A3.A2015305.h19v07.006.2015343135029.hdf',\n",
       " 'MOD13A3.A2015305.h19v08.006.2015343135001.hdf',\n",
       " 'MOD13A3.A2015305.h20v08.006.2015343135325.hdf',\n",
       " 'MOD13A3.A2015335.h19v07.006.2016007181745.hdf',\n",
       " 'MOD13A3.A2015335.h19v08.006.2016007180603.hdf',\n",
       " 'MOD13A3.A2015335.h20v08.006.2016007181735.hdf']"
      ]
     },
     "execution_count": 26,
     "metadata": {},
     "output_type": "execute_result"
    }
   ],
   "source": [
    "#haven't got MODIS downloaded yet\n",
    "MODISFiles = glob.glob('MOD13A3**.hdf') # Search for and create a list of EVI files\n",
    "MODISFiles"
   ]
  },
  {
   "cell_type": "code",
   "execution_count": 27,
   "metadata": {},
   "outputs": [
    {
     "name": "stdout",
     "output_type": "stream",
     "text": [
      "MOD13A3.A2015001.h19v07.006.2015295114815.hdf\n"
     ]
    }
   ],
   "source": [
    "print(MODISFiles[0])"
   ]
  },
  {
   "cell_type": "code",
   "execution_count": 37,
   "metadata": {},
   "outputs": [
    {
     "name": "stdout",
     "output_type": "stream",
     "text": [
      "Product Name: MOD13A3\n",
      "Layer ID: h19v07\n",
      "Date of Observation: 01/01/2015\n",
      "(Not sure what this represents: 2015295114815)\n"
     ]
    }
   ],
   "source": [
    "# File name metadata:\n",
    "productId = MODISFiles[0].split('.')[0]                                          # First: product name\n",
    "yeardoy = MODISFiles[0].split(productId + '.A')[1].split('.')[0]                 #julian date\n",
    "date = dt.datetime.strptime(yeardoy, '%Y%j').strftime('%d/%m/%Y')              # Convert YYYYDDD to DD/MM/YYYY\n",
    "tiles_id = MODISFiles[0].split(yeardoy + '.')[1].split('.006')[0]               # Second: layer name\n",
    "unknown_format = MODISFiles[0].split(tiles_id +'.006.')[1].split('.hdf')[0]                  # Third: date\n",
    "\n",
    "\n",
    "print('Product Name: {}\\nLayer ID: {}\\nDate of Observation: {}\\n(Not sure what this represents: {})'.format(productId, tiles_id, date, unknown_format ))"
   ]
  },
  {
   "cell_type": "markdown",
   "metadata": {},
   "source": [
    "Find out what last part of naming convention represents"
   ]
  },
  {
   "cell_type": "code",
   "execution_count": 30,
   "metadata": {},
   "outputs": [
    {
     "name": "stdout",
     "output_type": "stream",
     "text": [
      "<open DatasetReader name='MOD13A3.A2015001.h19v07.006.2015295114815.hdf' mode='r'>\n"
     ]
    },
    {
     "name": "stderr",
     "output_type": "stream",
     "text": [
      "C:\\Users\\samgr\\miniconda3\\envs\\GDAL_test\\lib\\site-packages\\rasterio\\__init__.py:218: NotGeoreferencedWarning: Dataset has no geotransform set. The identity matrix may be returned.\n",
      "  s = DatasetReader(path, driver=driver, sharing=sharing, **kwargs)\n"
     ]
    },
    {
     "data": {
      "text/plain": [
       "{'driver': 'HDF4',\n",
       " 'dtype': 'float_',\n",
       " 'nodata': None,\n",
       " 'width': 512,\n",
       " 'height': 512,\n",
       " 'count': 0,\n",
       " 'crs': None,\n",
       " 'transform': Affine(1.0, 0.0, 0.0,\n",
       "        0.0, 1.0, 0.0)}"
      ]
     },
     "execution_count": 30,
     "metadata": {},
     "output_type": "execute_result"
    }
   ],
   "source": [
    "# View dataset metadata\n",
    "with rio.open(MODISFiles[0]) as dataset:\n",
    "    print(dataset)\n",
    "    hdf4_meta = dataset.meta\n",
    "\n",
    "# Notice that there are metadata at the highest level of the file\n",
    "hdf4_meta"
   ]
  },
  {
   "cell_type": "code",
   "execution_count": 32,
   "metadata": {},
   "outputs": [
    {
     "name": "stdout",
     "output_type": "stream",
     "text": [
      "HDF4_EOS:EOS_GRID:MOD13A3.A2015001.h19v07.006.2015295114815.hdf:MOD_Grid_monthly_1km_VI:1 km monthly NDVI\n",
      "HDF4_EOS:EOS_GRID:MOD13A3.A2015001.h19v07.006.2015295114815.hdf:MOD_Grid_monthly_1km_VI:1 km monthly relative azimuth angle\n",
      "HDF4_EOS:EOS_GRID:MOD13A3.A2015001.h19v07.006.2015295114815.hdf:MOD_Grid_monthly_1km_VI:1 km monthly pixel reliability\n",
      "HDF4_EOS:EOS_GRID:MOD13A3.A2015001.h19v07.006.2015295114815.hdf:MOD_Grid_monthly_1km_VI:1 km monthly EVI\n",
      "HDF4_EOS:EOS_GRID:MOD13A3.A2015001.h19v07.006.2015295114815.hdf:MOD_Grid_monthly_1km_VI:1 km monthly VI Quality\n",
      "HDF4_EOS:EOS_GRID:MOD13A3.A2015001.h19v07.006.2015295114815.hdf:MOD_Grid_monthly_1km_VI:1 km monthly red reflectance\n",
      "HDF4_EOS:EOS_GRID:MOD13A3.A2015001.h19v07.006.2015295114815.hdf:MOD_Grid_monthly_1km_VI:1 km monthly NIR reflectance\n",
      "HDF4_EOS:EOS_GRID:MOD13A3.A2015001.h19v07.006.2015295114815.hdf:MOD_Grid_monthly_1km_VI:1 km monthly blue reflectance\n",
      "HDF4_EOS:EOS_GRID:MOD13A3.A2015001.h19v07.006.2015295114815.hdf:MOD_Grid_monthly_1km_VI:1 km monthly MIR reflectance\n",
      "HDF4_EOS:EOS_GRID:MOD13A3.A2015001.h19v07.006.2015295114815.hdf:MOD_Grid_monthly_1km_VI:1 km monthly view zenith angle\n",
      "HDF4_EOS:EOS_GRID:MOD13A3.A2015001.h19v07.006.2015295114815.hdf:MOD_Grid_monthly_1km_VI:1 km monthly sun zenith angle\n"
     ]
    }
   ],
   "source": [
    "# Print all of the subdatasets in the data\n",
    "with rio.open(MODISFiles[0]) as dataset:\n",
    "    crs = dataset.read_crs()\n",
    "    for name in dataset.subdatasets:\n",
    "        print(name)"
   ]
  },
  {
   "cell_type": "code",
   "execution_count": null,
   "metadata": {},
   "outputs": [],
   "source": []
  }
 ],
 "metadata": {
  "kernelspec": {
   "display_name": "Python 3",
   "language": "python",
   "name": "python3"
  },
  "language_info": {
   "codemirror_mode": {
    "name": "ipython",
    "version": 3
   },
   "file_extension": ".py",
   "mimetype": "text/x-python",
   "name": "python",
   "nbconvert_exporter": "python",
   "pygments_lexer": "ipython3",
   "version": "3.8.5"
  }
 },
 "nbformat": 4,
 "nbformat_minor": 4
}
