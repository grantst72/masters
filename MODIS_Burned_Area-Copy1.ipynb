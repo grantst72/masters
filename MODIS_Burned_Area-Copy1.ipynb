{
 "cells": [
  {
   "cell_type": "code",
   "execution_count": 1,
   "metadata": {},
   "outputs": [],
   "source": [
    "# Import libraries\n",
    "import os\n",
    "import glob\n",
    "from osgeo import gdal\n",
    "import numpy as np\n",
    "import numpy.ma as ma\n",
    "import matplotlib.pyplot as plt\n",
    "import scipy.ndimage\n",
    "import pandas as pd\n",
    "import datetime as dt\n",
    "import rasterio as rio\n",
    "import re\n",
    "import geopandas as gpd\n",
    "import earthpy as et\n",
    "import earthpy.plot as ep\n",
    "import earthpy.spatial as es\n",
    "import earthpy.mask as em\n",
    "from pyhdf.SD import SD, SDC\n",
    "import pprint"
   ]
  },
  {
   "cell_type": "code",
   "execution_count": 2,
   "metadata": {},
   "outputs": [],
   "source": [
    "# Set input directory, and change working directory - plug in D:\n",
    "inDir = \"D:\\\\masters_data\\\\MODIS_BA\"   # I should change this so I can work from github?\n",
    "os.chdir(inDir)                                                               # Change to working directory\n",
    "outDir = os.path.normpath(os.path.split(inDir)[0] + os.sep + 'output') + '\\\\' # Create and set output directory\n",
    "if not os.path.exists(outDir): os.makedirs(outDir)"
   ]
  },
  {
   "cell_type": "code",
   "execution_count": 3,
   "metadata": {},
   "outputs": [
    {
     "name": "stdout",
     "output_type": "stream",
     "text": [
      "217\n",
      "MCD64A1.A2002001.h20v07.006.2017012181506.hdf\n"
     ]
    }
   ],
   "source": [
    "# select first MODIS file\n",
    "MODISFiles = glob.glob('*h20v07*') \n",
    "print(len(MODISFiles))\n",
    "print(MODISFiles[0])"
   ]
  },
  {
   "cell_type": "code",
   "execution_count": 4,
   "metadata": {},
   "outputs": [
    {
     "name": "stdout",
     "output_type": "stream",
     "text": [
      "First date of observation: 01/01/2002)\n",
      "Last date of observation:  01/01/2020)\n"
     ]
    }
   ],
   "source": [
    "# date range of tile\n",
    "productId1 = MODISFiles[0].split('.')[0]                                          # First: product name\n",
    "yeardoy1 = MODISFiles[0].split(productId1 + '.A')[1].split('.')[0]                 # Julian date\n",
    "date1 = dt.datetime.strptime(yeardoy1, '%Y%j').strftime('%d/%m/%Y')                # Convert YYYYDDD to DD/MM/YYYY\n",
    "\n",
    "productId2 = MODISFiles[-1].split('.')[0]                                         # First: product name\n",
    "yeardoy2 = MODISFiles[-1].split(productId1 + '.A')[1].split('.')[0]                # Julian date\n",
    "date2 = dt.datetime.strptime(yeardoy2, '%Y%j').strftime('%d/%m/%Y')                # Convert YYYYDDD to DD/MM/YYYY\n",
    "\n",
    "print('First date of observation: {})'.format(date1))\n",
    "print('Last date of observation:  {})'.format(date2))"
   ]
  },
  {
   "cell_type": "code",
   "execution_count": 5,
   "metadata": {},
   "outputs": [
    {
     "name": "stdout",
     "output_type": "stream",
     "text": [
      "<class 'osgeo.gdal.Dataset'>\n",
      "<class 'tuple'>\n"
     ]
    }
   ],
   "source": [
    "import gdal\n",
    "from gdalconst import *\n",
    "filename= MODISFiles[0]\n",
    "dataset = gdal.Open(filename,GA_ReadOnly)\n",
    "subdataset = dataset.GetSubDatasets()[1]\n",
    "print(type(dataset))\n",
    "print(type(subdataset))"
   ]
  },
  {
   "cell_type": "code",
   "execution_count": 6,
   "metadata": {},
   "outputs": [
    {
     "name": "stdout",
     "output_type": "stream",
     "text": [
      "HDF4_EOS:EOS_GRID:MCD64A1.A2002001.h20v07.006.2017012181506.hdf:MOD_Grid_Monthly_500m_DB_BA:Burn Date\n",
      "HDF4_EOS:EOS_GRID:MCD64A1.A2002001.h20v07.006.2017012181506.hdf:MOD_Grid_Monthly_500m_DB_BA:Burn Date Uncertainty\n",
      "HDF4_EOS:EOS_GRID:MCD64A1.A2002001.h20v07.006.2017012181506.hdf:MOD_Grid_Monthly_500m_DB_BA:QA\n",
      "HDF4_EOS:EOS_GRID:MCD64A1.A2002001.h20v07.006.2017012181506.hdf:MOD_Grid_Monthly_500m_DB_BA:First Day\n",
      "HDF4_EOS:EOS_GRID:MCD64A1.A2002001.h20v07.006.2017012181506.hdf:MOD_Grid_Monthly_500m_DB_BA:Last Day\n"
     ]
    },
    {
     "name": "stderr",
     "output_type": "stream",
     "text": [
      "C:\\Users\\samgr\\miniconda3\\envs\\GDAL_test\\lib\\site-packages\\rasterio\\__init__.py:218: NotGeoreferencedWarning: Dataset has no geotransform set. The identity matrix may be returned.\n",
      "  s = DatasetReader(path, driver=driver, sharing=sharing, **kwargs)\n"
     ]
    }
   ],
   "source": [
    "# Print all of the subdatasets in the file - interested in Burn Date\n",
    "with rio.open(MODISFiles[0]) as dataset:\n",
    "    crs = dataset.read_crs()\n",
    "    for name in dataset.subdatasets:\n",
    "        print(name)"
   ]
  },
  {
   "cell_type": "code",
   "execution_count": 7,
   "metadata": {},
   "outputs": [
    {
     "name": "stdout",
     "output_type": "stream",
     "text": [
      "0 Burn Date\n",
      "1 Burn Date Uncertainty\n",
      "2 QA\n",
      "3 First Day\n",
      "4 Last Day\n"
     ]
    }
   ],
   "source": [
    "file_name = MODISFiles[0]\n",
    "file = SD(file_name, SDC.READ)  # SDC means scientific dataset  \n",
    "\n",
    "# print datasets in file\n",
    "datasets_dic = file.datasets()\n",
    "\n",
    "for idx,sds in enumerate(datasets_dic.keys()):\n",
    "    print(idx,sds)"
   ]
  },
  {
   "cell_type": "code",
   "execution_count": 8,
   "metadata": {},
   "outputs": [
    {
     "name": "stdout",
     "output_type": "stream",
     "text": [
      "[[0 0 0 ... 0 0 0]\n",
      " [0 0 0 ... 0 0 0]\n",
      " [0 0 0 ... 0 0 0]\n",
      " ...\n",
      " [0 0 0 ... 0 0 0]\n",
      " [0 0 0 ... 0 0 0]\n",
      " [0 0 0 ... 0 0 0]]\n",
      "{'_FillValue': -1,\n",
      " 'long_name': 'ordinal day of burn',\n",
      " 'valid_range': [0, 366],\n",
      " 'water': -2}\n"
     ]
    }
   ],
   "source": [
    "# get data for Burn Date - can change this to get data for other simply by changing the index number\n",
    "sds_obj = file.select(0) # select sds\n",
    "\n",
    "data = sds_obj.get() # get sds data\n",
    "print(data)\n",
    "# print attributes to see scale factor and add_offset\n",
    "import pprint\n",
    "pprint.pprint(sds_obj.attributes())"
   ]
  },
  {
   "cell_type": "code",
   "execution_count": 9,
   "metadata": {},
   "outputs": [
    {
     "name": "stdout",
     "output_type": "stream",
     "text": [
      "Tuple of arrays returned :(array([1547, 1547, 1547, ..., 2399, 2399, 2399], dtype=int64), array([1978, 1979, 1980, ..., 2368, 2369, 2370], dtype=int64)) \n"
     ]
    }
   ],
   "source": [
    "# this shows where fire burns for certain day \n",
    "result = np.where(data > 0)\n",
    "print('Tuple of arrays returned :{} '.format(result))\n",
    "\n",
    "# somehow get 2 different arrays?"
   ]
  },
  {
   "cell_type": "code",
   "execution_count": 10,
   "metadata": {},
   "outputs": [
    {
     "name": "stdout",
     "output_type": "stream",
     "text": [
      "(2400, 2400)\n"
     ]
    }
   ],
   "source": [
    "# create a new array\n",
    "blanks = np.zeros((2400, 2400))\n",
    "print(blanks.shape)"
   ]
  },
  {
   "cell_type": "code",
   "execution_count": 11,
   "metadata": {},
   "outputs": [
    {
     "name": "stdout",
     "output_type": "stream",
     "text": [
      "Product name: MCD64A1       Observation date: 01/01/2002       tiles id: h20v07      unknown: 2017012181506\n",
      "Product name: MCD64A1       Observation date: 01/02/2002       tiles id: h20v07      unknown: 2017012210538\n",
      "Product name: MCD64A1       Observation date: 01/03/2002       tiles id: h20v07      unknown: 2017012225857\n",
      "Product name: MCD64A1       Observation date: 01/04/2002       tiles id: h20v07      unknown: 2017013011053\n",
      "Product name: MCD64A1       Observation date: 01/05/2002       tiles id: h20v07      unknown: 2017013025243\n",
      "Product name: MCD64A1       Observation date: 01/06/2002       tiles id: h20v07      unknown: 2017013052003\n",
      "Product name: MCD64A1       Observation date: 01/07/2002       tiles id: h20v07      unknown: 2017013074204\n",
      "Product name: MCD64A1       Observation date: 01/08/2002       tiles id: h20v07      unknown: 2017013132434\n",
      "Product name: MCD64A1       Observation date: 01/09/2002       tiles id: h20v07      unknown: 2017013170755\n",
      "Product name: MCD64A1       Observation date: 01/10/2002       tiles id: h20v07      unknown: 2017013123031\n",
      "Product name: MCD64A1       Observation date: 01/11/2002       tiles id: h20v07      unknown: 2017013224110\n",
      "Product name: MCD64A1       Observation date: 01/12/2002       tiles id: h20v07      unknown: 2017013190541\n",
      "Product name: MCD64A1       Observation date: 01/01/2003       tiles id: h20v07      unknown: 2017014175341\n",
      "Product name: MCD64A1       Observation date: 01/02/2003       tiles id: h20v07      unknown: 2017014205650\n",
      "Product name: MCD64A1       Observation date: 01/03/2003       tiles id: h20v07      unknown: 2017014180954\n",
      "Product name: MCD64A1       Observation date: 01/04/2003       tiles id: h20v07      unknown: 2017015025125\n",
      "Product name: MCD64A1       Observation date: 01/05/2003       tiles id: h20v07      unknown: 2017015024625\n",
      "Product name: MCD64A1       Observation date: 01/06/2003       tiles id: h20v07      unknown: 2017014211512\n",
      "Product name: MCD64A1       Observation date: 01/07/2003       tiles id: h20v07      unknown: 2017014075533\n",
      "Product name: MCD64A1       Observation date: 01/08/2003       tiles id: h20v07      unknown: 2017014075639\n",
      "Product name: MCD64A1       Observation date: 01/09/2003       tiles id: h20v07      unknown: 2017015114145\n",
      "Product name: MCD64A1       Observation date: 01/10/2003       tiles id: h20v07      unknown: 2017015104246\n",
      "Product name: MCD64A1       Observation date: 01/11/2003       tiles id: h20v07      unknown: 2017015132233\n",
      "Product name: MCD64A1       Observation date: 01/12/2003       tiles id: h20v07      unknown: 2017015171521\n",
      "Product name: MCD64A1       Observation date: 01/01/2004       tiles id: h20v07      unknown: 2017017010214\n",
      "Product name: MCD64A1       Observation date: 01/02/2004       tiles id: h20v07      unknown: 2017017015452\n",
      "Product name: MCD64A1       Observation date: 01/03/2004       tiles id: h20v07      unknown: 2017017025748\n",
      "Product name: MCD64A1       Observation date: 01/04/2004       tiles id: h20v07      unknown: 2017015202756\n",
      "Product name: MCD64A1       Observation date: 01/05/2004       tiles id: h20v07      unknown: 2017015231234\n",
      "Product name: MCD64A1       Observation date: 01/06/2004       tiles id: h20v07      unknown: 2017016034251\n",
      "Product name: MCD64A1       Observation date: 01/07/2004       tiles id: h20v07      unknown: 2017016061004\n",
      "Product name: MCD64A1       Observation date: 01/08/2004       tiles id: h20v07      unknown: 2017016094319\n",
      "Product name: MCD64A1       Observation date: 01/09/2004       tiles id: h20v07      unknown: 2017016122306\n",
      "Product name: MCD64A1       Observation date: 01/10/2004       tiles id: h20v07      unknown: 2017016092910\n",
      "Product name: MCD64A1       Observation date: 01/11/2004       tiles id: h20v07      unknown: 2017016175217\n",
      "Product name: MCD64A1       Observation date: 01/12/2004       tiles id: h20v07      unknown: 2017016200511\n",
      "Product name: MCD64A1       Observation date: 01/01/2005       tiles id: h20v07      unknown: 2017031122337\n",
      "Product name: MCD64A1       Observation date: 01/02/2005       tiles id: h20v07      unknown: 2017017154213\n",
      "Product name: MCD64A1       Observation date: 01/03/2005       tiles id: h20v07      unknown: 2017017183936\n",
      "Product name: MCD64A1       Observation date: 01/04/2005       tiles id: h20v07      unknown: 2017017205921\n",
      "Product name: MCD64A1       Observation date: 01/05/2005       tiles id: h20v07      unknown: 2017017193946\n",
      "Product name: MCD64A1       Observation date: 01/06/2005       tiles id: h20v07      unknown: 2017018045016\n",
      "Product name: MCD64A1       Observation date: 01/07/2005       tiles id: h20v07      unknown: 2017018074847\n",
      "Product name: MCD64A1       Observation date: 01/08/2005       tiles id: h20v07      unknown: 2017018093746\n",
      "Product name: MCD64A1       Observation date: 01/09/2005       tiles id: h20v07      unknown: 2017018122608\n",
      "Product name: MCD64A1       Observation date: 01/10/2005       tiles id: h20v07      unknown: 2017018160417\n",
      "Product name: MCD64A1       Observation date: 01/11/2005       tiles id: h20v07      unknown: 2017018192906\n",
      "Product name: MCD64A1       Observation date: 01/12/2005       tiles id: h20v07      unknown: 2017018222459\n",
      "Product name: MCD64A1       Observation date: 01/01/2006       tiles id: h20v07      unknown: 2017017150859\n",
      "Product name: MCD64A1       Observation date: 01/02/2006       tiles id: h20v07      unknown: 2017017165348\n",
      "Product name: MCD64A1       Observation date: 01/03/2006       tiles id: h20v07      unknown: 2017017173926\n",
      "Product name: MCD64A1       Observation date: 01/04/2006       tiles id: h20v07      unknown: 2017017161049\n",
      "Product name: MCD64A1       Observation date: 01/05/2006       tiles id: h20v07      unknown: 2017017172121\n",
      "Product name: MCD64A1       Observation date: 01/06/2006       tiles id: h20v07      unknown: 2017017173611\n",
      "Product name: MCD64A1       Observation date: 01/07/2006       tiles id: h20v07      unknown: 2017017183416\n",
      "Product name: MCD64A1       Observation date: 01/08/2006       tiles id: h20v07      unknown: 2017017190930\n",
      "Product name: MCD64A1       Observation date: 01/09/2006       tiles id: h20v07      unknown: 2017017191840\n",
      "Product name: MCD64A1       Observation date: 01/10/2006       tiles id: h20v07      unknown: 2017017124923\n",
      "Product name: MCD64A1       Observation date: 01/11/2006       tiles id: h20v07      unknown: 2017017124312\n",
      "Product name: MCD64A1       Observation date: 01/12/2006       tiles id: h20v07      unknown: 2017017132659\n",
      "Product name: MCD64A1       Observation date: 01/01/2007       tiles id: h20v07      unknown: 2017016122621\n",
      "Product name: MCD64A1       Observation date: 01/02/2007       tiles id: h20v07      unknown: 2017016120153\n",
      "Product name: MCD64A1       Observation date: 01/03/2007       tiles id: h20v07      unknown: 2017016115059\n",
      "Product name: MCD64A1       Observation date: 01/04/2007       tiles id: h20v07      unknown: 2017016135544\n",
      "Product name: MCD64A1       Observation date: 01/05/2007       tiles id: h20v07      unknown: 2017016141302\n",
      "Product name: MCD64A1       Observation date: 01/06/2007       tiles id: h20v07      unknown: 2017016231831\n",
      "Product name: MCD64A1       Observation date: 01/07/2007       tiles id: h20v07      unknown: 2017016221856\n",
      "Product name: MCD64A1       Observation date: 01/08/2007       tiles id: h20v07      unknown: 2017016232117\n",
      "Product name: MCD64A1       Observation date: 01/09/2007       tiles id: h20v07      unknown: 2017016190649\n",
      "Product name: MCD64A1       Observation date: 01/10/2007       tiles id: h20v07      unknown: 2017016195203\n",
      "Product name: MCD64A1       Observation date: 01/11/2007       tiles id: h20v07      unknown: 2017016201649\n",
      "Product name: MCD64A1       Observation date: 01/12/2007       tiles id: h20v07      unknown: 2017016212551\n",
      "Product name: MCD64A1       Observation date: 01/01/2008       tiles id: h20v07      unknown: 2017017003406\n",
      "Product name: MCD64A1       Observation date: 01/02/2008       tiles id: h20v07      unknown: 2017017005520\n",
      "Product name: MCD64A1       Observation date: 01/03/2008       tiles id: h20v07      unknown: 2017017012423\n",
      "Product name: MCD64A1       Observation date: 01/04/2008       tiles id: h20v07      unknown: 2017017033135\n",
      "Product name: MCD64A1       Observation date: 01/05/2008       tiles id: h20v07      unknown: 2017017045510\n",
      "Product name: MCD64A1       Observation date: 01/06/2008       tiles id: h20v07      unknown: 2017017055838\n",
      "Product name: MCD64A1       Observation date: 01/07/2008       tiles id: h20v07      unknown: 2017017051040\n",
      "Product name: MCD64A1       Observation date: 01/08/2008       tiles id: h20v07      unknown: 2017017074258\n",
      "Product name: MCD64A1       Observation date: 01/09/2008       tiles id: h20v07      unknown: 2017017071630\n",
      "Product name: MCD64A1       Observation date: 01/10/2008       tiles id: h20v07      unknown: 2017017084343\n",
      "Product name: MCD64A1       Observation date: 01/11/2008       tiles id: h20v07      unknown: 2017017080530\n",
      "Product name: MCD64A1       Observation date: 01/12/2008       tiles id: h20v07      unknown: 2017017093213\n",
      "Product name: MCD64A1       Observation date: 01/01/2009       tiles id: h20v07      unknown: 2017015113211\n",
      "Product name: MCD64A1       Observation date: 01/02/2009       tiles id: h20v07      unknown: 2017015034552\n",
      "Product name: MCD64A1       Observation date: 01/03/2009       tiles id: h20v07      unknown: 2017015044411\n",
      "Product name: MCD64A1       Observation date: 01/04/2009       tiles id: h20v07      unknown: 2017015044816\n",
      "Product name: MCD64A1       Observation date: 01/05/2009       tiles id: h20v07      unknown: 2017015054042\n",
      "Product name: MCD64A1       Observation date: 01/06/2009       tiles id: h20v07      unknown: 2017015060540\n",
      "Product name: MCD64A1       Observation date: 01/07/2009       tiles id: h20v07      unknown: 2017015075530\n",
      "Product name: MCD64A1       Observation date: 01/08/2009       tiles id: h20v07      unknown: 2017015093508\n",
      "Product name: MCD64A1       Observation date: 01/09/2009       tiles id: h20v07      unknown: 2017015084710\n",
      "Product name: MCD64A1       Observation date: 01/10/2009       tiles id: h20v07      unknown: 2017015104037\n",
      "Product name: MCD64A1       Observation date: 01/11/2009       tiles id: h20v07      unknown: 2017015095250\n",
      "Product name: MCD64A1       Observation date: 01/12/2009       tiles id: h20v07      unknown: 2017015105855\n",
      "Product name: MCD64A1       Observation date: 01/01/2010       tiles id: h20v07      unknown: 2017011160211\n",
      "Product name: MCD64A1       Observation date: 01/02/2010       tiles id: h20v07      unknown: 2017011170809\n",
      "Product name: MCD64A1       Observation date: 01/03/2010       tiles id: h20v07      unknown: 2017011161655\n",
      "Product name: MCD64A1       Observation date: 01/04/2010       tiles id: h20v07      unknown: 2017011153856\n",
      "Product name: MCD64A1       Observation date: 01/05/2010       tiles id: h20v07      unknown: 2017011214456\n",
      "Product name: MCD64A1       Observation date: 01/06/2010       tiles id: h20v07      unknown: 2017011194623\n",
      "Product name: MCD64A1       Observation date: 01/07/2010       tiles id: h20v07      unknown: 2017011214751\n",
      "Product name: MCD64A1       Observation date: 01/08/2010       tiles id: h20v07      unknown: 2017011234531\n",
      "Product name: MCD64A1       Observation date: 01/09/2010       tiles id: h20v07      unknown: 2017012015212\n",
      "Product name: MCD64A1       Observation date: 01/10/2010       tiles id: h20v07      unknown: 2017012024529\n",
      "Product name: MCD64A1       Observation date: 01/11/2010       tiles id: h20v07      unknown: 2017012055024\n",
      "Product name: MCD64A1       Observation date: 01/12/2010       tiles id: h20v07      unknown: 2017012051428\n",
      "Product name: MCD64A1       Observation date: 01/01/2011       tiles id: h20v07      unknown: 2017012084920\n",
      "Product name: MCD64A1       Observation date: 01/02/2011       tiles id: h20v07      unknown: 2017012081842\n",
      "Product name: MCD64A1       Observation date: 01/03/2011       tiles id: h20v07      unknown: 2017012091741\n",
      "Product name: MCD64A1       Observation date: 01/04/2011       tiles id: h20v07      unknown: 2017012093738\n",
      "Product name: MCD64A1       Observation date: 01/05/2011       tiles id: h20v07      unknown: 2017012104402\n",
      "Product name: MCD64A1       Observation date: 01/06/2011       tiles id: h20v07      unknown: 2017012123343\n",
      "Product name: MCD64A1       Observation date: 01/07/2011       tiles id: h20v07      unknown: 2017012125036\n",
      "Product name: MCD64A1       Observation date: 01/08/2011       tiles id: h20v07      unknown: 2017012171729\n",
      "Product name: MCD64A1       Observation date: 01/09/2011       tiles id: h20v07      unknown: 2017012173000\n",
      "Product name: MCD64A1       Observation date: 01/10/2011       tiles id: h20v07      unknown: 2017012174933\n",
      "Product name: MCD64A1       Observation date: 01/11/2011       tiles id: h20v07      unknown: 2017012150218\n",
      "Product name: MCD64A1       Observation date: 01/12/2011       tiles id: h20v07      unknown: 2017012161812\n",
      "Product name: MCD64A1       Observation date: 01/01/2012       tiles id: h20v07      unknown: 2017012192018\n",
      "Product name: MCD64A1       Observation date: 01/02/2012       tiles id: h20v07      unknown: 2017012200522\n",
      "Product name: MCD64A1       Observation date: 01/03/2012       tiles id: h20v07      unknown: 2017012194426\n",
      "Product name: MCD64A1       Observation date: 01/04/2012       tiles id: h20v07      unknown: 2017012212419\n",
      "Product name: MCD64A1       Observation date: 01/05/2012       tiles id: h20v07      unknown: 2017012211308\n",
      "Product name: MCD64A1       Observation date: 01/06/2012       tiles id: h20v07      unknown: 2017012222748\n",
      "Product name: MCD64A1       Observation date: 01/07/2012       tiles id: h20v07      unknown: 2017012222053\n",
      "Product name: MCD64A1       Observation date: 01/08/2012       tiles id: h20v07      unknown: 2017013035903\n",
      "Product name: MCD64A1       Observation date: 01/09/2012       tiles id: h20v07      unknown: 2017013033300\n",
      "Product name: MCD64A1       Observation date: 01/10/2012       tiles id: h20v07      unknown: 2017013034925\n",
      "Product name: MCD64A1       Observation date: 01/11/2012       tiles id: h20v07      unknown: 2017013012618\n",
      "Product name: MCD64A1       Observation date: 01/12/2012       tiles id: h20v07      unknown: 2017013022405\n",
      "Product name: MCD64A1       Observation date: 01/01/2013       tiles id: h20v07      unknown: 2017013051922\n",
      "Product name: MCD64A1       Observation date: 01/02/2013       tiles id: h20v07      unknown: 2017013060712\n",
      "Product name: MCD64A1       Observation date: 01/03/2013       tiles id: h20v07      unknown: 2017013064540\n",
      "Product name: MCD64A1       Observation date: 01/04/2013       tiles id: h20v07      unknown: 2017013071914\n",
      "Product name: MCD64A1       Observation date: 01/05/2013       tiles id: h20v07      unknown: 2017013073947\n",
      "Product name: MCD64A1       Observation date: 01/06/2013       tiles id: h20v07      unknown: 2017013081819\n",
      "Product name: MCD64A1       Observation date: 01/07/2013       tiles id: h20v07      unknown: 2017013093930\n",
      "Product name: MCD64A1       Observation date: 01/08/2013       tiles id: h20v07      unknown: 2017013093554\n",
      "Product name: MCD64A1       Observation date: 01/09/2013       tiles id: h20v07      unknown: 2017013100800\n",
      "Product name: MCD64A1       Observation date: 01/10/2013       tiles id: h20v07      unknown: 2017013110907\n",
      "Product name: MCD64A1       Observation date: 01/11/2013       tiles id: h20v07      unknown: 2017013113907\n",
      "Product name: MCD64A1       Observation date: 01/12/2013       tiles id: h20v07      unknown: 2017013130223\n",
      "Product name: MCD64A1       Observation date: 01/01/2014       tiles id: h20v07      unknown: 2017013211819\n",
      "Product name: MCD64A1       Observation date: 01/02/2014       tiles id: h20v07      unknown: 2017013214648\n",
      "Product name: MCD64A1       Observation date: 01/03/2014       tiles id: h20v07      unknown: 2017013223931\n",
      "Product name: MCD64A1       Observation date: 01/04/2014       tiles id: h20v07      unknown: 2017013185058\n",
      "Product name: MCD64A1       Observation date: 01/05/2014       tiles id: h20v07      unknown: 2017013184527\n",
      "Product name: MCD64A1       Observation date: 01/06/2014       tiles id: h20v07      unknown: 2017013202024\n",
      "Product name: MCD64A1       Observation date: 01/07/2014       tiles id: h20v07      unknown: 2017013232609\n",
      "Product name: MCD64A1       Observation date: 01/08/2014       tiles id: h20v07      unknown: 2017014001502\n",
      "Product name: MCD64A1       Observation date: 01/09/2014       tiles id: h20v07      unknown: 2017014033754\n",
      "Product name: MCD64A1       Observation date: 01/10/2014       tiles id: h20v07      unknown: 2017014041716\n",
      "Product name: MCD64A1       Observation date: 01/11/2014       tiles id: h20v07      unknown: 2017014051008\n",
      "Product name: MCD64A1       Observation date: 01/12/2014       tiles id: h20v07      unknown: 2017014051047\n",
      "Product name: MCD64A1       Observation date: 01/01/2015       tiles id: h20v07      unknown: 2017014044920\n",
      "Product name: MCD64A1       Observation date: 01/02/2015       tiles id: h20v07      unknown: 2017014054611\n",
      "Product name: MCD64A1       Observation date: 01/03/2015       tiles id: h20v07      unknown: 2017014070243\n",
      "Product name: MCD64A1       Observation date: 01/04/2015       tiles id: h20v07      unknown: 2017014084732\n",
      "Product name: MCD64A1       Observation date: 01/05/2015       tiles id: h20v07      unknown: 2017014090940\n",
      "Product name: MCD64A1       Observation date: 01/06/2015       tiles id: h20v07      unknown: 2017014101805\n",
      "Product name: MCD64A1       Observation date: 01/07/2015       tiles id: h20v07      unknown: 2017014114431\n",
      "Product name: MCD64A1       Observation date: 01/08/2015       tiles id: h20v07      unknown: 2017014112252\n",
      "Product name: MCD64A1       Observation date: 01/09/2015       tiles id: h20v07      unknown: 2017014134751\n",
      "Product name: MCD64A1       Observation date: 01/10/2015       tiles id: h20v07      unknown: 2017014145043\n",
      "Product name: MCD64A1       Observation date: 01/11/2015       tiles id: h20v07      unknown: 2017014151421\n",
      "Product name: MCD64A1       Observation date: 01/12/2015       tiles id: h20v07      unknown: 2017014163820\n",
      "Product name: MCD64A1       Observation date: 01/01/2016       tiles id: h20v07      unknown: 2017015002439\n",
      "Product name: MCD64A1       Observation date: 01/02/2016       tiles id: h20v07      unknown: 2017015002110\n",
      "Product name: MCD64A1       Observation date: 01/03/2016       tiles id: h20v07      unknown: 2017015012612\n",
      "Product name: MCD64A1       Observation date: 01/04/2016       tiles id: h20v07      unknown: 2017014180033\n",
      "Product name: MCD64A1       Observation date: 01/05/2016       tiles id: h20v07      unknown: 2017014184509\n",
      "Product name: MCD64A1       Observation date: 01/06/2016       tiles id: h20v07      unknown: 2017014200247\n",
      "Product name: MCD64A1       Observation date: 01/07/2016       tiles id: h20v07      unknown: 2017014210840\n",
      "Product name: MCD64A1       Observation date: 01/08/2016       tiles id: h20v07      unknown: 2017014230111\n",
      "Product name: MCD64A1       Observation date: 01/09/2016       tiles id: h20v07      unknown: 2017014230140\n",
      "Product name: MCD64A1       Observation date: 01/10/2016       tiles id: h20v07      unknown: 2017015034156\n",
      "Product name: MCD64A1       Observation date: 01/11/2016       tiles id: h20v07      unknown: 2017015034558\n",
      "Product name: MCD64A1       Observation date: 01/12/2016       tiles id: h20v07      unknown: 2017040115729\n",
      "Product name: MCD64A1       Observation date: 01/01/2017       tiles id: h20v07      unknown: 2017066072347\n",
      "Product name: MCD64A1       Observation date: 01/02/2017       tiles id: h20v07      unknown: 2017102031429\n",
      "Product name: MCD64A1       Observation date: 01/03/2017       tiles id: h20v07      unknown: 2017135131854\n",
      "Product name: MCD64A1       Observation date: 01/04/2017       tiles id: h20v07      unknown: 2017154184653\n",
      "Product name: MCD64A1       Observation date: 01/05/2017       tiles id: h20v07      unknown: 2017192105613\n",
      "Product name: MCD64A1       Observation date: 01/06/2017       tiles id: h20v07      unknown: 2017219170545\n",
      "Product name: MCD64A1       Observation date: 01/07/2017       tiles id: h20v07      unknown: 2017250223407\n",
      "Product name: MCD64A1       Observation date: 01/08/2017       tiles id: h20v07      unknown: 2017282081108\n",
      "Product name: MCD64A1       Observation date: 01/09/2017       tiles id: h20v07      unknown: 2017314140838\n",
      "Product name: MCD64A1       Observation date: 01/10/2017       tiles id: h20v07      unknown: 2017342052124\n",
      "Product name: MCD64A1       Observation date: 01/11/2017       tiles id: h20v07      unknown: 2018005131640\n",
      "Product name: MCD64A1       Observation date: 01/12/2017       tiles id: h20v07      unknown: 2018034134318\n",
      "Product name: MCD64A1       Observation date: 01/01/2018       tiles id: h20v07      unknown: 2018067090057\n",
      "Product name: MCD64A1       Observation date: 01/02/2018       tiles id: h20v07      unknown: 2018098091738\n",
      "Product name: MCD64A1       Observation date: 01/03/2018       tiles id: h20v07      unknown: 2018130223309\n",
      "Product name: MCD64A1       Observation date: 01/04/2018       tiles id: h20v07      unknown: 2018154053854\n",
      "Product name: MCD64A1       Observation date: 01/05/2018       tiles id: h20v07      unknown: 2018191083127\n",
      "Product name: MCD64A1       Observation date: 01/06/2018       tiles id: h20v07      unknown: 2018221093632\n",
      "Product name: MCD64A1       Observation date: 01/07/2018       tiles id: h20v07      unknown: 2018250155447\n",
      "Product name: MCD64A1       Observation date: 01/08/2018       tiles id: h20v07      unknown: 2018304085109\n",
      "Product name: MCD64A1       Observation date: 01/09/2018       tiles id: h20v07      unknown: 2018317012247\n",
      "Product name: MCD64A1       Observation date: 01/10/2018       tiles id: h20v07      unknown: 2018339074722\n",
      "Product name: MCD64A1       Observation date: 01/11/2018       tiles id: h20v07      unknown: 2019011023206\n",
      "Product name: MCD64A1       Observation date: 01/12/2018       tiles id: h20v07      unknown: 2019038020724\n",
      "Product name: MCD64A1       Observation date: 01/01/2019       tiles id: h20v07      unknown: 2019066080637\n",
      "Product name: MCD64A1       Observation date: 01/02/2019       tiles id: h20v07      unknown: 2019100102705\n",
      "Product name: MCD64A1       Observation date: 01/03/2019       tiles id: h20v07      unknown: 2019142130137\n",
      "Product name: MCD64A1       Observation date: 01/04/2019       tiles id: h20v07      unknown: 2019154195804\n",
      "Product name: MCD64A1       Observation date: 01/05/2019       tiles id: h20v07      unknown: 2019186195653\n",
      "Product name: MCD64A1       Observation date: 01/06/2019       tiles id: h20v07      unknown: 2019218222432\n",
      "Product name: MCD64A1       Observation date: 01/07/2019       tiles id: h20v07      unknown: 2019263124421\n",
      "Product name: MCD64A1       Observation date: 01/08/2019       tiles id: h20v07      unknown: 2019284002310\n",
      "Product name: MCD64A1       Observation date: 01/09/2019       tiles id: h20v07      unknown: 2019317203109\n",
      "Product name: MCD64A1       Observation date: 01/10/2019       tiles id: h20v07      unknown: 2019338195652\n",
      "Product name: MCD64A1       Observation date: 01/11/2019       tiles id: h20v07      unknown: 2020006114811\n",
      "Product name: MCD64A1       Observation date: 01/12/2019       tiles id: h20v07      unknown: 2020035112137\n",
      "Product name: MCD64A1       Observation date: 01/01/2020       tiles id: h20v07      unknown: 2020066203456\n"
     ]
    }
   ],
   "source": [
    "NUM = 0\n",
    "for i in MODISFiles:\n",
    "    productId = MODISFiles[NUM].split('.')[0]                                          # First: product name\n",
    "    yeardoy = MODISFiles[NUM].split(productId1 + '.A')[1].split('.')[0]                 # Julian date\n",
    "    date = dt.datetime.strptime(yeardoy, '%Y%j').strftime('%d/%m/%Y')                # Convert YYYYDDD to DD/MM/YYYY\n",
    "    tiles_id = MODISFiles[NUM].split(yeardoy + '.')[1].split('.006')[0]               # Second: tile id\n",
    "    unknown_format = MODISFiles[NUM].split(tiles_id +'.006.')[1].split('.hdf')[0]     # Third: date (DD/MM/YYYY)\n",
    "    \n",
    "    print('Product name: {}       Observation date: {}       tiles id: {}      unknown: {}'.format(productId, date, tiles_id, unknown_format))\n",
    "    NUM += 1\n"
   ]
  },
  {
   "cell_type": "code",
   "execution_count": 12,
   "metadata": {
    "scrolled": true
   },
   "outputs": [],
   "source": [
    "NUMBER = 0\n",
    "\n",
    "for j in MODISFiles:\n",
    "    filename= MODISFiles[NUMBER]\n",
    "    dataset = gdal.Open(filename,GA_ReadOnly)\n",
    "    subdataset = dataset.GetSubDatasets()[1]\n",
    "    \n",
    "    with rio.open(MODISFiles[NUMBER]) as dataset:\n",
    "        crs = dataset.read_crs()\n",
    "    \n",
    "    file_name = MODISFiles[NUMBER]\n",
    "    file = SD(file_name, SDC.READ)   \n",
    "    \n",
    "    datasets_dic = file.datasets()\n",
    "    sds_obj = file.select(0)\n",
    "    data = sds_obj.get() \n",
    "    result = np.where(data > 0)\n",
    "    \n",
    "    blanks[result] += 1\n",
    "    \n",
    "    NUMBER += 1\n",
    "\n",
    "    # either all +=1 or all 0"
   ]
  },
  {
   "cell_type": "code",
   "execution_count": 14,
   "metadata": {},
   "outputs": [
    {
     "name": "stdout",
     "output_type": "stream",
     "text": [
      "22.0\n",
      "0.0\n",
      "1.03729375\n"
     ]
    }
   ],
   "source": [
    "print(blanks.max())\n",
    "print(blanks.min())\n",
    "mean = blanks.mean()\n",
    "print(mean)\n",
    "percent = mean / 270 *100\n",
    "\n",
    "\n",
    "# saves the \"blanks\" as a csv file - remember I working with the array in the following script, not the csv\n",
    "# np.savetxt(\"C:\\\\Users\\\\samgr\\\\OneDrive\\\\Desktop\\\\blanks1.csv\", blanks, delimiter=\",\")"
   ]
  },
  {
   "cell_type": "code",
   "execution_count": 15,
   "metadata": {},
   "outputs": [
    {
     "name": "stdout",
     "output_type": "stream",
     "text": [
      "[0.0, 0.0, 0.0, 0.0, 0.0, 0.0, 0.0, 0.0, 0.0, 0.0, 0.0, 0.0, 0.0, 0.0, 0.0, 0.0, 0.0, 0.0, 0.0, 0.0, 0.0, 0.0, 0.0, 0.0, 0.0, 0.0, 0.0, 0.0, 0.0, 0.0, 0.0, 0.0, 0.0, 0.0, 0.0, 0.0, 0.0, 0.0, 0.0, 0.0, 0.0, 0.0, 0.0, 0.0, 0.0, 0.0, 0.0, 0.0, 0.0, 0.0, 0.0, 0.0, 0.0, 0.0, 0.0, 0.0, 0.0, 0.0, 0.0, 0.0, 0.0, 0.0, 0.0, 0.0, 0.0, 0.0, 0.0, 0.0, 0.0, 0.0, 0.0, 0.0, 0.0, 0.0, 0.0, 0.0, 0.0, 0.0, 0.0, 0.0, 0.0, 1.0, 1.0, 1.0, 1.0, 1.0, 2.0, 2.0, 3.0, 3.0, 4.0, 4.0, 5.0, 6.0, 7.0, 8.0, 9.0, 11.0, 12.0, 14.0, 22.0]\n"
     ]
    },
    {
     "data": {
      "text/plain": [
       "Text(0, 0.5, 'Times burnt')"
      ]
     },
     "execution_count": 15,
     "metadata": {},
     "output_type": "execute_result"
    },
    {
     "data": {
      "image/png": "[encoded data removed]",
      "text/plain": [
       "<Figure size 432x288 with 1 Axes>"
      ]
     },
     "metadata": {
      "needs_background": "light"
     },
     "output_type": "display_data"
    }
   ],
   "source": [
    "b = []\n",
    "\n",
    "for i in range(0,101):\n",
    "    b.append(np.quantile(blanks, i/100))\n",
    "\n",
    "print(b)\n",
    "plt.plot(b)\n",
    "plt.xlabel(\"Burn frequency (quantile)\")\n",
    "plt.ylabel(\"Times burnt\")\n"
   ]
  },
  {
   "cell_type": "code",
   "execution_count": 16,
   "metadata": {},
   "outputs": [
    {
     "name": "stdout",
     "output_type": "stream",
     "text": [
      "[0.0, 1.0, 4.0, 8.0, 22.0]\n"
     ]
    },
    {
     "data": {
      "image/png": "[encoded data removed]",
      "text/plain": [
       "<Figure size 432x288 with 1 Axes>"
      ]
     },
     "metadata": {
      "needs_background": "light"
     },
     "output_type": "display_data"
    }
   ],
   "source": [
    "c = []\n",
    "\n",
    "for i in range(0,101):\n",
    "    if i == 80:\n",
    "        c.append(np.quantile(blanks, i/100))\n",
    "    if i == 85:\n",
    "        c.append(np.quantile(blanks, i/100))\n",
    "    if i == 90:\n",
    "        c.append(np.quantile(blanks, i/100))\n",
    "    if i == 95:\n",
    "        c.append(np.quantile(blanks, i/100))\n",
    "    if i == 100:\n",
    "        c.append(np.quantile(blanks, i/100))\n",
    "    # a.append(np.quantile(blanks, (i/100))\n",
    "\n",
    "print(c)\n",
    "plt.plot(c)\n",
    "plt.xlabel(\"Burn frequency (quantile)\")\n",
    "plt.ylabel(\"Times burnt\")\n",
    "b = []\n",
    "\n"
   ]
  },
  {
   "cell_type": "code",
   "execution_count": 19,
   "metadata": {},
   "outputs": [
    {
     "name": "stderr",
     "output_type": "stream",
     "text": [
      "<ipython-input-19-815a860e1d9f>:20: MatplotlibDeprecationWarning: In a future version, 'pad' will default to rcParams['figure.subplot.wspace'].  Set pad=0 to keep the old behavior.\n",
      "  cax = divider.append_axes(\"right\", size =\"5 %\")\n"
     ]
    },
    {
     "data": {
      "image/png": "[encoded data removed]",
      "text/plain": [
       "<Figure size 432x288 with 2 Axes>"
      ]
     },
     "metadata": {
      "needs_background": "light"
     },
     "output_type": "display_data"
    }
   ],
   "source": [
    "# need to change the bar to \n",
    "\n",
    "import matplotlib.colors as colors \n",
    "from mpl_toolkits.axes_grid1 import make_axes_locatable \n",
    "\n",
    "u = np.unique(blanks) \n",
    "bounds = np.concatenate(([blanks.min()], \n",
    "                         u[:-1]+np.diff(u)/2., \n",
    "                         [blanks.max()])) \n",
    "  \n",
    "# norm = colors.BoundaryNorm(bounds, len(bounds)) \n",
    "# color_map1 = ['#FFFAFA', '#FFA07A', '#FF6347', '#800000'] \n",
    "# color_map = colors.ListedColormap(color_map1)  \n",
    "  \n",
    "    \n",
    "fig, axes = plt.subplots() \n",
    "img = axes.imshow(blanks, cmap = \"OrRd\", \n",
    "                  ) \n",
    "divider = make_axes_locatable(axes) \n",
    "cax = divider.append_axes(\"right\", size =\"5 %\") \n",
    "  \n",
    "color_bar = plt.colorbar(img,  \n",
    "                        cax = cax) \n",
    "  \n",
    "# color_bar.set_ticks(bounds[:-1]+np.diff(bounds)/2.) \n",
    "# color_bar.ax.set_yticklabels(color_map1) \n",
    "# color_bar.ax.tick_params(labelsize = 10) \n",
    "  \n",
    "plt.show() "
   ]
  },
  {
   "cell_type": "code",
   "execution_count": null,
   "metadata": {},
   "outputs": [],
   "source": []
  }
 ],
 "metadata": {
  "kernelspec": {
   "display_name": "Python 3",
   "language": "python",
   "name": "python3"
  },
  "language_info": {
   "codemirror_mode": {
    "name": "ipython",
    "version": 3
   },
   "file_extension": ".py",
   "mimetype": "text/x-python",
   "name": "python",
   "nbconvert_exporter": "python",
   "pygments_lexer": "ipython3",
   "version": "3.8.5"
  }
 },
 "nbformat": 4,
 "nbformat_minor": 4
}
