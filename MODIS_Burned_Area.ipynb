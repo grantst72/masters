{
 "cells": [
  {
   "cell_type": "code",
   "execution_count": 2,
   "metadata": {},
   "outputs": [],
   "source": [
    "# Import libraries\n",
    "import os\n",
    "import glob\n",
    "from osgeo import gdal\n",
    "import numpy as np\n",
    "import numpy.ma as ma\n",
    "import matplotlib.pyplot as plt\n",
    "import scipy.ndimage\n",
    "import pandas as pd\n",
    "import datetime as dt\n",
    "import rasterio as rio\n",
    "import re\n",
    "import geopandas as gpd\n",
    "import earthpy as et\n",
    "import earthpy.plot as ep\n",
    "import earthpy.spatial as es\n",
    "import earthpy.mask as em\n",
    "from pyhdf.SD import SD, SDC"
   ]
  },
  {
   "cell_type": "code",
   "execution_count": 5,
   "metadata": {},
   "outputs": [],
   "source": [
    "# Set input directory, and change working directory - plug in D:\n",
    "inDir = \"D:\\\\masters_data\\\\MODIS_BA\"   # I should change this so I can work from github?\n",
    "os.chdir(inDir)                                                               # Change to working directory\n",
    "outDir = os.path.normpath(os.path.split(inDir)[0] + os.sep + 'output') + '\\\\' # Create and set output directory\n",
    "if not os.path.exists(outDir): os.makedirs(outDir)"
   ]
  },
  {
   "cell_type": "code",
   "execution_count": 6,
   "metadata": {},
   "outputs": [
    {
     "name": "stdout",
     "output_type": "stream",
     "text": [
      "MCD64A1.A2002001.h19v07.006.2017012203845.hdf\n"
     ]
    }
   ],
   "source": [
    "# select first MODIS file\n",
    "MODISFiles = glob.glob('MCD64A1**.hdf') \n",
    "print(MODISFiles[0])"
   ]
  },
  {
   "cell_type": "code",
   "execution_count": 7,
   "metadata": {},
   "outputs": [
    {
     "name": "stdout",
     "output_type": "stream",
     "text": [
      "Product Name: MCD64A1\n",
      "Layer ID: h19v07\n",
      "Date of Observation: 01/01/2002\n",
      "(Not sure what this represents: 2017012203845)\n"
     ]
    }
   ],
   "source": [
    "# Just makes clear MODIS File naming convention and changes it from Julian date (YYYYDDD)\n",
    "# Not actually changing the file name\n",
    "productId = MODISFiles[0].split('.')[0]                                         # First: product name\n",
    "yeardoy = MODISFiles[0].split(productId + '.A')[1].split('.')[0]                # Julian date\n",
    "date = dt.datetime.strptime(yeardoy, '%Y%j').strftime('%d/%m/%Y')               # Convert YYYYDDD to DD/MM/YYYY\n",
    "tiles_id = MODISFiles[0].split(yeardoy + '.')[1].split('.006')[0]               # Second: tile id\n",
    "unknown_format = MODISFiles[0].split(tiles_id +'.006.')[1].split('.hdf')[0]     # Third: date (DD/MM/YYYY)\n",
    "\n",
    "\n",
    "print('Product Name: {}\\nLayer ID: {}\\nDate of Observation: {}\\n(Not sure what this represents: {})'.format(productId, tiles_id, date, unknown_format))"
   ]
  },
  {
   "cell_type": "code",
   "execution_count": 8,
   "metadata": {},
   "outputs": [
    {
     "name": "stdout",
     "output_type": "stream",
     "text": [
      "<open DatasetReader name='MCD64A1.A2002001.h19v07.006.2017012203845.hdf' mode='r'>\n"
     ]
    },
    {
     "name": "stderr",
     "output_type": "stream",
     "text": [
      "C:\\Users\\samgr\\miniconda3\\envs\\GDAL_test\\lib\\site-packages\\rasterio\\__init__.py:218: NotGeoreferencedWarning: Dataset has no geotransform set. The identity matrix may be returned.\n",
      "  s = DatasetReader(path, driver=driver, sharing=sharing, **kwargs)\n"
     ]
    },
    {
     "data": {
      "text/plain": [
       "{'driver': 'HDF4',\n",
       " 'dtype': 'float_',\n",
       " 'nodata': None,\n",
       " 'width': 512,\n",
       " 'height': 512,\n",
       " 'count': 0,\n",
       " 'crs': None,\n",
       " 'transform': Affine(1.0, 0.0, 0.0,\n",
       "        0.0, 1.0, 0.0)}"
      ]
     },
     "execution_count": 8,
     "metadata": {},
     "output_type": "execute_result"
    }
   ],
   "source": [
    "# View dataset metadata at the highest level of file - Not sure if this actually tells me anything useful\n",
    "with rio.open(MODISFiles[0]) as dataset:\n",
    "    print(dataset)\n",
    "    hdf4_meta = dataset.meta\n",
    "\n",
    "hdf4_meta"
   ]
  },
  {
   "cell_type": "code",
   "execution_count": 9,
   "metadata": {},
   "outputs": [
    {
     "name": "stdout",
     "output_type": "stream",
     "text": [
      "HDF4_EOS:EOS_GRID:MCD64A1.A2002001.h19v07.006.2017012203845.hdf:MOD_Grid_Monthly_500m_DB_BA:Burn Date\n",
      "HDF4_EOS:EOS_GRID:MCD64A1.A2002001.h19v07.006.2017012203845.hdf:MOD_Grid_Monthly_500m_DB_BA:Burn Date Uncertainty\n",
      "HDF4_EOS:EOS_GRID:MCD64A1.A2002001.h19v07.006.2017012203845.hdf:MOD_Grid_Monthly_500m_DB_BA:QA\n",
      "HDF4_EOS:EOS_GRID:MCD64A1.A2002001.h19v07.006.2017012203845.hdf:MOD_Grid_Monthly_500m_DB_BA:First Day\n",
      "HDF4_EOS:EOS_GRID:MCD64A1.A2002001.h19v07.006.2017012203845.hdf:MOD_Grid_Monthly_500m_DB_BA:Last Day\n"
     ]
    }
   ],
   "source": [
    "# Print all of the subdatasets in the file - I think NDVI and EVI are the ones I'm interested in\n",
    "with rio.open(MODISFiles[0]) as dataset:\n",
    "    crs = dataset.read_crs()\n",
    "    for name in dataset.subdatasets:\n",
    "        print(name)"
   ]
  },
  {
   "cell_type": "code",
   "execution_count": 10,
   "metadata": {},
   "outputs": [
    {
     "name": "stdout",
     "output_type": "stream",
     "text": [
      "(5, 17)\n"
     ]
    }
   ],
   "source": [
    "file_name = MODISFiles[0]\n",
    "file = SD(file_name, SDC.READ)  # SDC means scientific dataset  \n",
    "\n",
    "print( file.info() )  # means there is 11 scientific datasets, although im not sure what the 6 signifies"
   ]
  },
  {
   "cell_type": "code",
   "execution_count": 11,
   "metadata": {},
   "outputs": [
    {
     "name": "stdout",
     "output_type": "stream",
     "text": [
      "0 Burn Date\n",
      "1 Burn Date Uncertainty\n",
      "2 QA\n",
      "3 First Day\n",
      "4 Last Day\n"
     ]
    }
   ],
   "source": [
    "# print datasets in file\n",
    "datasets_dic = file.datasets()\n",
    "\n",
    "for idx,sds in enumerate(datasets_dic.keys()):\n",
    "    print(idx,sds)"
   ]
  },
  {
   "cell_type": "code",
   "execution_count": 21,
   "metadata": {},
   "outputs": [
    {
     "name": "stdout",
     "output_type": "stream",
     "text": [
      "[[0 0 0 ... 0 0 0]\n",
      " [0 0 0 ... 0 0 0]\n",
      " [0 0 0 ... 0 0 0]\n",
      " ...\n",
      " [0 0 0 ... 0 0 0]\n",
      " [0 0 0 ... 0 0 0]\n",
      " [0 0 0 ... 0 0 0]]\n",
      "{'_FillValue': -1,\n",
      " 'long_name': 'ordinal day of burn',\n",
      " 'valid_range': [0, 366],\n",
      " 'water': -2}\n"
     ]
    }
   ],
   "source": [
    "# get data for Burn Date - can change this to get data for EVI or other simply by changing the index number\n",
    "sds_obj = file.select(0) # select sds\n",
    "\n",
    "data = sds_obj.get() # get sds data\n",
    "print(data)\n",
    "# print attributes to see scale factor and add_offset\n",
    "import pprint\n",
    "pprint.pprint( sds_obj.attributes() )"
   ]
  },
  {
   "cell_type": "code",
   "execution_count": 33,
   "metadata": {},
   "outputs": [
    {
     "name": "stdout",
     "output_type": "stream",
     "text": [
      "  C_CONTIGUOUS : True\n",
      "  F_CONTIGUOUS : False\n",
      "  OWNDATA : True\n",
      "  WRITEABLE : True\n",
      "  ALIGNED : True\n",
      "  WRITEBACKIFCOPY : False\n",
      "  UPDATEIFCOPY : False\n",
      "\n",
      "(2400, 2400) (A total of 5760000 pixels)\n"
     ]
    }
   ],
   "source": [
    "print(data.flags)\n",
    "print(data.shape, \"(A total of\", 2400*2400, \"pixels)\")"
   ]
  },
  {
   "cell_type": "code",
   "execution_count": 46,
   "metadata": {},
   "outputs": [
    {
     "name": "stdout",
     "output_type": "stream",
     "text": [
      "Tuple of arrays returned :  (array([ 288,  321,  321, ..., 2399, 2399, 2399], dtype=int64), array([ 931,  873,  874, ..., 2381, 2382, 2383], dtype=int64))\n"
     ]
    }
   ],
   "source": [
    "# this shows where fire burns for certain day \n",
    "result = np.where(data != 0)\n",
    "print('Tuple of arrays returned : ', result)\n",
    "\n",
    "# somehow get 2 different arrays?"
   ]
  },
  {
   "cell_type": "code",
   "execution_count": null,
   "metadata": {},
   "outputs": [],
   "source": []
  }
 ],
 "metadata": {
  "kernelspec": {
   "display_name": "Python 3",
   "language": "python",
   "name": "python3"
  },
  "language_info": {
   "codemirror_mode": {
    "name": "ipython",
    "version": 3
   },
   "file_extension": ".py",
   "mimetype": "text/x-python",
   "name": "python",
   "nbconvert_exporter": "python",
   "pygments_lexer": "ipython3",
   "version": "3.8.5"
  }
 },
 "nbformat": 4,
 "nbformat_minor": 4
}
